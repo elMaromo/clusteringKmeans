{
 "cells": [
  {
   "cell_type": "markdown",
   "id": "45cd2ee9-9757-4691-beac-94b02125cbdd",
   "metadata": {},
   "source": [
    "# Clustering con el Metodo K-Means"
   ]
  },
  {
   "cell_type": "code",
   "execution_count": null,
   "id": "7918a754-1a48-4959-8234-41defcb5d2e1",
   "metadata": {},
   "outputs": [],
   "source": [
    "import numpy as np\n",
    "import pandas as pd\n",
    "import matplotlib.pyplot as plt\n",
    "from sklearn.cluster import kmeans\n",
    "\n",
    "%matplotlib inline"
   ]
  }
 ],
 "metadata": {
  "kernelspec": {
   "display_name": "Python 3 (ipykernel)",
   "language": "python",
   "name": "python3"
  },
  "language_info": {
   "codemirror_mode": {
    "name": "ipython",
    "version": 3
   },
   "file_extension": ".py",
   "mimetype": "text/x-python",
   "name": "python",
   "nbconvert_exporter": "python",
   "pygments_lexer": "ipython3",
   "version": "3.11.6"
  }
 },
 "nbformat": 4,
 "nbformat_minor": 5
}
