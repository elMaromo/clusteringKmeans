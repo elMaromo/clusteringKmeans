{
 "cells": [
  {
   "cell_type": "code",
   "execution_count": 11,
   "metadata": {},
   "outputs": [],
   "source": [
    "\n",
    "#%run ClusteringTester.ipynb\n",
    "#import import_ipynb\n",
    "#import ClusteringTester"
   ]
  },
  {
   "cell_type": "code",
   "execution_count": null,
   "metadata": {},
   "outputs": [],
   "source": []
  },
  {
   "cell_type": "markdown",
   "metadata": {},
   "source": [
    "\n",
    "X, Y = loadData(\"datasets/square1.arff\")\n",
    "printPoints(X, Y)\n",
    "\n",
    "t0 = time.time()\n",
    "Y2, centroids = streamKmeansArduino( X, 4, 1, 0.6, 2 )\n",
    "t1 = time.time()\n",
    "\n",
    "total = t1-t0\n",
    "printPoints(X, Y2)\n",
    "print(centroids)\n",
    "printPointsCentroids( X, centroids )"
   ]
  }
 ],
 "metadata": {
  "kernelspec": {
   "display_name": "Python 3",
   "language": "python",
   "name": "python3"
  },
  "language_info": {
   "codemirror_mode": {
    "name": "ipython",
    "version": 3
   },
   "file_extension": ".py",
   "mimetype": "text/x-python",
   "name": "python",
   "nbconvert_exporter": "python",
   "pygments_lexer": "ipython3",
   "version": "3.11.7"
  }
 },
 "nbformat": 4,
 "nbformat_minor": 2
}
