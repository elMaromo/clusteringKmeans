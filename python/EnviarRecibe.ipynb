{
 "cells": [
  {
   "cell_type": "markdown",
   "id": "45cd2ee9-9757-4691-beac-94b02125cbdd",
   "metadata": {},
   "source": [
    "# Comunicacion con el arduino por el puerto Serial\n",
    "envia numeros a partir del teclado y recibe ese numero mas 1"
   ]
  },
  {
   "cell_type": "code",
   "execution_count": null,
   "id": "6c0d2e61",
   "metadata": {},
   "outputs": [],
   "source": [
    "# Importing Libraries \n",
    "import serial \n",
    "import time \n",
    "arduino = serial.Serial(port='COM3', baudrate=115200, timeout=.1) \n",
    "def write_read(x): \n",
    "\tarduino.write(bytes(x, 'utf-8')) \n",
    "\ttime.sleep(0.05) \n",
    "\tdata = arduino.readline() \n",
    "\treturn data \n",
    "while True: \n",
    "\tnum = input(\"Enter a number: \") # Taking input from user \n",
    "\tvalue = write_read(num) \n",
    "\tprint(value) # printing the value \n"
   ]
  }
 ],
 "metadata": {
  "kernelspec": {
   "display_name": "Python 3 (ipykernel)",
   "language": "python",
   "name": "python3"
  },
  "language_info": {
   "codemirror_mode": {
    "name": "ipython",
    "version": 3
   },
   "file_extension": ".py",
   "mimetype": "text/x-python",
   "name": "python",
   "nbconvert_exporter": "python",
   "pygments_lexer": "ipython3",
   "version": "3.11.6"
  }
 },
 "nbformat": 4,
 "nbformat_minor": 5
}
